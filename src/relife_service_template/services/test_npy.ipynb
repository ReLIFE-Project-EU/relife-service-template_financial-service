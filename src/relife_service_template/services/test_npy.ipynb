{
 "cells": [
  {
   "cell_type": "code",
   "execution_count": 119,
   "id": "eafece4a",
   "metadata": {},
   "outputs": [],
   "source": [
    "import pandas as pd\n",
    "import numpy as np\n",
    "from typing import List\n",
    "import uvicorn\n",
    "import requests\n"
   ]
  },
  {
   "cell_type": "code",
   "execution_count": 7,
   "id": "5ebeac26",
   "metadata": {},
   "outputs": [
    {
     "data": {
      "text/plain": [
       "7285.853521369258"
      ]
     },
     "execution_count": 7,
     "metadata": {},
     "output_type": "execute_result"
    }
   ],
   "source": [
    "cash_flows= [1000.0, 1200.5, 1500.25, 1100]\n",
    "discount_rate= 0.08\n",
    "energy_savings= 100.0\n",
    "initial_investment= -3000.0\n",
    "lifetime= 4\n",
    "\n",
    "calculate_npv(\n",
    "    cash_flows=cash_flows,  \n",
    "    discount_rate=discount_rate,\n",
    "    energy_savings=energy_savings,\n",
    "    initial_investment=initial_investment,\n",
    "    lifetime=lifetime\n",
    ")"
   ]
  },
  {
   "cell_type": "code",
   "execution_count": 82,
   "id": "3d4711e4",
   "metadata": {},
   "outputs": [],
   "source": [
    "def calculate_ii(\n",
    "    capex: float,\n",
    "    interest_rate: float = 0.0,\n",
    "    loan_term: float = 0.0,\n",
    "    loan_amount: float = 0.0,\n",
    "    subsidy: float = 0.0,\n",
    ") -> float:\n",
    "    \"\"\"\n",
    "    Calculate the Initial Investment (II) based on provided inputs.\n",
    "\n",
    "    - Case 1: Only CAPEX\n",
    "    - Case 2: CAPEX with Subsidy\n",
    "    - Case 3: CAPEX with Loan\n",
    "    - Case 4: CAPEX with Subsidy and Loan\n",
    "\n",
    "    Missing values (like loan or subsidy) are treated as 0.\n",
    "    \"\"\"\n",
    "\n",
    "    if subsidy == 0 and loan_amount == 0:\n",
    "        # Case 1: Only CAPEX\n",
    "        ii = capex\n",
    "\n",
    "    elif subsidy > 0 and loan_amount == 0:\n",
    "        # Case 2: CAPEX with Subsidy\n",
    "        ii = capex - subsidy\n",
    "\n",
    "    elif loan_amount > 0 and subsidy == 0:\n",
    "        # Case 3: CAPEX with Loan\n",
    "        ii = capex - loan_amount\n",
    "\n",
    "    elif loan_amount > 0 and subsidy > 0:\n",
    "        # Case 4: CAPEX with Subsidy and Loan\n",
    "        ii = capex - subsidy - loan_amount\n",
    "\n",
    "    else:\n",
    "        # Fallback \n",
    "        ii = capex\n",
    "\n",
    "    return ii"
   ]
  },
  {
   "cell_type": "code",
   "execution_count": 84,
   "id": "375d9a3a",
   "metadata": {},
   "outputs": [
    {
     "data": {
      "text/plain": [
       "-1000"
      ]
     },
     "execution_count": 84,
     "metadata": {},
     "output_type": "execute_result"
    }
   ],
   "source": [
    "capex = 1000\n",
    "interest_rate = 0.1\n",
    "loan_term = 10\n",
    "subsidy = 2000\n",
    "\n",
    "\n",
    "calculate_ii(\n",
    "    capex=capex,\n",
    "    interest_rate=interest_rate,\n",
    "    loan_term=loan_term,\n",
    "    subsidy=subsidy\n",
    ")"
   ]
  },
  {
   "cell_type": "code",
   "execution_count": 41,
   "id": "4e254e9f",
   "metadata": {},
   "outputs": [],
   "source": [
    "def calculate_opex(\n",
    "    energy_mix: List[float],\n",
    "    energy_prices: List[float],\n",
    "    maintenance_cost: float,\n",
    ") -> float:\n",
    "\n",
    "\n",
    "    opex = []\n",
    "    for t in range(len(energy_mix)):\n",
    "        if t < len(energy_prices):\n",
    "            opex.append(energy_mix[t] * energy_prices[t]) \n",
    "        else:\n",
    "            opex.append = 0  # Default to maintenance cost if no price data available\n",
    "\n",
    "    opex = np.sum(opex) + maintenance_cost\n",
    "    \n",
    "\n",
    "    return float(opex)"
   ]
  },
  {
   "cell_type": "code",
   "execution_count": 42,
   "id": "2382366a",
   "metadata": {},
   "outputs": [
    {
     "data": {
      "text/plain": [
       "1290.0"
      ]
     },
     "execution_count": 42,
     "metadata": {},
     "output_type": "execute_result"
    }
   ],
   "source": [
    "energy_mix = [0.3, 0.4, 0.2, 0.1]\n",
    "energy_prices = [1000, 1200, 1500, 1100]\n",
    "maintenance_cost = 100\n",
    "\n",
    "calculate_opex(\n",
    "    energy_mix=energy_mix,\n",
    "    energy_prices=energy_prices,\n",
    "    maintenance_cost=maintenance_cost\n",
    ")\n",
    "\n"
   ]
  },
  {
   "cell_type": "code",
   "execution_count": 99,
   "id": "8136c1c3",
   "metadata": {},
   "outputs": [],
   "source": [
    "def calculate_roi(\n",
    "        capex: float= 0.0,\n",
    "        interest_rate: float= 0.0,\n",
    "        loan_term: float= 0.0,\n",
    "        loan_amount: float= 0.0,\n",
    "        subsidy: float= 0.0,\n",
    "        energy_savings: float= 0.0,\n",
    "        energy_mix: List[float]=None,\n",
    "        energy_prices: List[float]=None,\n",
    "        maintenance_cost: float= 0.0,\n",
    "        other_outflows: float= 0.0,\n",
    ")-> float: \n",
    "    \n",
    "\n",
    "\n",
    "    if energy_mix is None:\n",
    "        energy_mix=[]\n",
    "\n",
    "    if energy_prices is None:\n",
    "        energy_prices=[]\n",
    "    #Calculate roi\n",
    "    #first calucalte opex and initial investment\n",
    "\n",
    "    #OPEX\n",
    "\n",
    "    opex = []\n",
    "\n",
    "    for t in range(len(energy_mix)):\n",
    "        if t < len(energy_prices):\n",
    "            opex.append(energy_mix[t] * energy_prices[t]) \n",
    "        else:\n",
    "            opex.append(0)  # Default to maintenance cost if no price data available\n",
    "\n",
    "    opex = np.sum(opex) + maintenance_cost\n",
    "    opex=float(opex)  # Ensure opex is a float\n",
    "\n",
    "    #Initial Investment (II)\n",
    "\n",
    "    if subsidy == 0 and loan_amount == 0:\n",
    "        # Case 1: Only CAPEX\n",
    "        ii = capex\n",
    "\n",
    "    elif subsidy > 0 and loan_amount == 0:\n",
    "        # Case 2: CAPEX with Subsidy\n",
    "        ii = capex - subsidy\n",
    "\n",
    "    elif loan_amount > 0 and subsidy == 0:\n",
    "        # Case 3: CAPEX with Loan\n",
    "        ii = capex - loan_amount\n",
    "\n",
    "    elif loan_amount > 0 and subsidy > 0:\n",
    "        # Case 4: CAPEX with Subsidy and Loan\n",
    "        ii = capex - subsidy - loan_amount\n",
    "\n",
    "    else:\n",
    "        # Fallback \n",
    "        ii = capex\n",
    "\n",
    "\n",
    "#ROI\n",
    "    \n",
    "    net_profit= energy_savings-opex-other_outflows\n",
    "    if ii == 0:\n",
    "        roi = 0.0\n",
    "    else:\n",
    "     roi = (net_profit-ii)/ii *100\n",
    "\n",
    "    roi=float(roi)\n",
    "\n",
    "    return roi"
   ]
  },
  {
   "cell_type": "code",
   "execution_count": 100,
   "id": "6521eb85",
   "metadata": {},
   "outputs": [
    {
     "data": {
      "text/plain": [
       "7.142857142857142"
      ]
     },
     "execution_count": 100,
     "metadata": {},
     "output_type": "execute_result"
    }
   ],
   "source": [
    "capex = 1000\n",
    "loan_amount = 200\n",
    "subsidy = 100\n",
    "energy_savings = 1500\n",
    "energy_mix = [100, 100, 100]\n",
    "energy_prices = [2, 2, 2]\n",
    "maintenance_cost = 50\n",
    "other_outflows = 100\n",
    "\n",
    "calculate_roi(\n",
    "    capex=capex,\n",
    "    loan_amount=loan_amount,\n",
    "    subsidy=subsidy,\n",
    "    energy_savings=energy_savings,\n",
    "    energy_mix=energy_mix,\n",
    "    energy_prices=energy_prices,\n",
    "    maintenance_cost=maintenance_cost,\n",
    "    other_outflows=other_outflows\n",
    ")"
   ]
  },
  {
   "cell_type": "code",
   "execution_count": 109,
   "id": "83a56ca3",
   "metadata": {},
   "outputs": [],
   "source": [
    "def calculate_irr(\n",
    "        \n",
    "        capex: float = 0.0,\n",
    "        interest_rate: float = 0.0,\n",
    "        loan_term: float = 0.0,\n",
    "        loan_amount: float = 0.0,\n",
    "        subsidy: float = 0.0,\n",
    "        energy_savings: float = 0.0,\n",
    "        energy_mix: List[float] = None,\n",
    "        energy_prices: List[float] = None,\n",
    "        maintenance_cost: float = 0.0,\n",
    "        other_outflows: float = 0.0,\n",
    "        project_lifetime: float = 20.0,  # Default project lifetime\n",
    ") -> float:\n",
    "    \n",
    "    if energy_mix is None:\n",
    "        energy_mix = []\n",
    "\n",
    "    if energy_prices is None:\n",
    "        energy_prices = []\n",
    "\n",
    "    # Calculate OPEX\n",
    "    opex = []\n",
    "    for t in range(len(energy_mix)):\n",
    "        if t < len(energy_prices):\n",
    "            opex.append(energy_mix[t] * energy_prices[t])\n",
    "        else:\n",
    "            opex.append(maintenance_cost)  # Default to maintenance cost if no price data available\n",
    "\n",
    "    opex_total = np.sum(opex) + maintenance_cost\n",
    "\n",
    "    # Calculate Initial Investment (II)\n",
    "    ii = capex - subsidy - loan_amount if (subsidy > 0 or loan_amount > 0) else capex\n",
    "\n",
    "    if ii==0:\n",
    "        irr =0\n",
    "    else:\n",
    "    # Calculate IRR using a simple formula (this is a placeholder, actual IRR calculation may require more complex financial modeling)\n",
    "     irr = (energy_savings - opex_total - other_outflows) / ii\n",
    "\n",
    "    irr=float(irr)\n",
    "\n",
    "    return irr"
   ]
  },
  {
   "cell_type": "code",
   "execution_count": 110,
   "id": "7b482bb1",
   "metadata": {},
   "outputs": [
    {
     "data": {
      "text/plain": [
       "0.0"
      ]
     },
     "execution_count": 110,
     "metadata": {},
     "output_type": "execute_result"
    }
   ],
   "source": [
    "capex = 0\n",
    "loan_amount = 0\n",
    "subsidy = 0\n",
    "energy_savings = 0\n",
    "energy_mix = [100, 100, 100]\n",
    "energy_prices = [2, 2, 2]\n",
    "maintenance_cost = 0\n",
    "other_outflows = 0\n",
    "project_lifetime = 0\n",
    "\n",
    "calculate_irr(\n",
    "    capex=capex,\n",
    "    loan_amount=loan_amount,    \n",
    "    subsidy=subsidy,\n",
    "     energy_savings = energy_savings,\n",
    "    energy_mix = energy_mix,\n",
    "energy_prices = energy_prices,\n",
    "maintenance_cost = maintenance_cost ,\n",
    "other_outflows = other_outflows,\n",
    "project_lifetime = project_lifetime,\n",
    ")"
   ]
  },
  {
   "cell_type": "code",
   "execution_count": 120,
   "id": "34c8687d",
   "metadata": {},
   "outputs": [
    {
     "name": "stdout",
     "output_type": "stream",
     "text": [
      "{'openapi': '3.1.0', 'info': {'title': 'Financial Service APIs', 'description': 'FastAPI application for all financial indicators', 'version': 'development'}, 'paths': {'/': {'get': {'summary': 'Read Root', 'operationId': 'read_root__get', 'responses': {'200': {'description': 'Successful Response', 'content': {'application/json': {'schema': {}}}}}}}, '/health': {'get': {'tags': ['health'], 'summary': 'Health Check', 'description': 'Basic health check endpoint that returns service status and current timestamp.', 'operationId': 'health_check_health_get', 'responses': {'200': {'description': 'Successful Response', 'content': {'application/json': {'schema': {}}}}}}}, '/whoami': {'get': {'tags': ['auth'], 'summary': 'Whoami With Roles', 'description': \"Return authenticated user's information including their Keycloak roles.\", 'operationId': 'whoami_with_roles_whoami_get', 'responses': {'200': {'description': 'Successful Response', 'content': {'application/json': {'schema': {'$ref': '#/components/schemas/AuthenticatedUser'}}}}}, 'security': [{'HTTPBearer': []}]}}, '/storage': {'get': {'tags': ['examples'], 'summary': 'List Files', 'description': 'List all files uploaded by the authenticated user to the default Supabase Storage bucket.\\n\\nThis endpoint retrieves a comprehensive list of all files that the current user\\nhas uploaded to their personal storage folder. Each file entry includes metadata\\nsuch as size, creation date, and public access URL.', 'operationId': 'list_files_storage_get', 'responses': {'200': {'description': 'Successful Response', 'content': {'application/json': {'schema': {'items': {'$ref': '#/components/schemas/StorageFileInfo'}, 'type': 'array', 'title': 'Response List Files Storage Get'}}}}}, 'security': [{'HTTPBearer': []}]}, 'post': {'tags': ['examples'], 'summary': 'Upload File', 'description': \"Upload a file to Supabase Storage with user-specific organization.\\n\\nThis endpoint uploads files to a user-specific folder within the configured storage bucket.\\nEach user's files are isolated in their own directory to prevent unauthorized access.\", 'operationId': 'upload_file_storage_post', 'requestBody': {'content': {'multipart/form-data': {'schema': {'$ref': '#/components/schemas/Body_upload_file_storage_post'}}}, 'required': True}, 'responses': {'200': {'description': 'Successful Response', 'content': {'application/json': {'schema': {'$ref': '#/components/schemas/FileUploadResponse'}}}}, '422': {'description': 'Validation Error', 'content': {'application/json': {'schema': {'$ref': '#/components/schemas/HTTPValidationError'}}}}}, 'security': [{'HTTPBearer': []}]}}, '/table/{table_name}': {'get': {'tags': ['examples'], 'summary': 'Read Table', 'description': 'Read data from a Supabase table. The table name is passed as a path parameter.\\n\\nThis endpoint respects Row Level Security (RLS) policies configured on the table.\\nUsers will only see data they are authorized to access based on their permissions.', 'operationId': 'read_table_table__table_name__get', 'security': [{'HTTPBearer': []}], 'parameters': [{'name': 'table_name', 'in': 'path', 'required': True, 'schema': {'type': 'string', 'title': 'Table Name'}}], 'responses': {'200': {'description': 'Successful Response', 'content': {'application/json': {'schema': {'$ref': '#/components/schemas/TableDataResponse'}}}}, '422': {'description': 'Validation Error', 'content': {'application/json': {'schema': {'$ref': '#/components/schemas/HTTPValidationError'}}}}}}}, '/user-profile': {'get': {'tags': ['examples'], 'summary': 'Get User Profile', 'description': 'Get comprehensive user profile information including Keycloak roles.\\n\\nThis endpoint demonstrates how to work with users authenticated via Keycloak\\nwithout requiring them to be present in Supabase. It shows how to access\\nuser information and roles from the Keycloak authentication context.\\n\\nThis works with both Supabase-synchronized and direct Keycloak users.', 'operationId': 'get_user_profile_user_profile_get', 'responses': {'200': {'description': 'Successful Response', 'content': {'application/json': {'schema': {'additionalProperties': True, 'type': 'object', 'title': 'Response Get User Profile User Profile Get'}}}}}, 'security': [{'HTTPBearer': []}]}}, '/financial/npv': {'post': {'tags': ['financial'], 'summary': 'Calculate Net Present Value', 'description': 'Calculate the Net Present Value (NPV) for a series of cash flows.', 'operationId': 'npv_endpoint_financial_npv_post', 'requestBody': {'content': {'application/json': {'schema': {'$ref': '#/components/schemas/NPVRequest'}}}, 'required': True}, 'responses': {'200': {'description': 'Successful Response', 'content': {'application/json': {'schema': {'$ref': '#/components/schemas/NPVResponse'}}}}, '401': {'description': 'Unauthorized'}, '422': {'description': 'Validation Error', 'content': {'application/json': {'schema': {'$ref': '#/components/schemas/HTTPValidationError'}}}}}}}, '/financial/ii': {'post': {'tags': ['financial'], 'summary': 'Calculate Initial Investment', 'description': 'Calculate the II of Project.', 'operationId': 'ii_endpoint_financial_ii_post', 'requestBody': {'content': {'application/json': {'schema': {'$ref': '#/components/schemas/IIRequest'}}}, 'required': True}, 'responses': {'200': {'description': 'Successful Response', 'content': {'application/json': {'schema': {'$ref': '#/components/schemas/IIResponse'}}}}, '401': {'description': 'Unauthorized'}, '422': {'description': 'Validation Error', 'content': {'application/json': {'schema': {'$ref': '#/components/schemas/HTTPValidationError'}}}}}}}, '/financial/opex': {'post': {'tags': ['financial'], 'summary': 'Calculate Operational Expenses', 'description': 'Calculate the OPEX of Project.', 'operationId': 'ii_endpoint_financial_opex_post', 'requestBody': {'content': {'application/json': {'schema': {'$ref': '#/components/schemas/OPEXRequest'}}}, 'required': True}, 'responses': {'200': {'description': 'Successful Response', 'content': {'application/json': {'schema': {'$ref': '#/components/schemas/OPEXResponse'}}}}, '401': {'description': 'Unauthorized'}, '422': {'description': 'Validation Error', 'content': {'application/json': {'schema': {'$ref': '#/components/schemas/HTTPValidationError'}}}}}}}, '/financial/roi': {'post': {'tags': ['financial'], 'summary': 'Calculate ROI', 'description': 'Calculate ROI of Project.', 'operationId': 'roi_endpoint_financial_roi_post', 'requestBody': {'content': {'application/json': {'schema': {'$ref': '#/components/schemas/ROIRequest'}}}, 'required': True}, 'responses': {'200': {'description': 'Successful Response', 'content': {'application/json': {'schema': {'$ref': '#/components/schemas/ROIResponse'}}}}, '401': {'description': 'Unauthorized'}, '422': {'description': 'Validation Error', 'content': {'application/json': {'schema': {'$ref': '#/components/schemas/HTTPValidationError'}}}}}}}, '/financial/irr': {'post': {'tags': ['financial'], 'summary': 'Calculate IRR', 'description': 'Calculate IRR of Project.', 'operationId': 'irr_endpoint_financial_irr_post', 'requestBody': {'content': {'application/json': {'schema': {'$ref': '#/components/schemas/IRRRequest'}}}, 'required': True}, 'responses': {'200': {'description': 'Successful Response', 'content': {'application/json': {'schema': {'$ref': '#/components/schemas/IRRResponse'}}}}, '401': {'description': 'Unauthorized'}, '422': {'description': 'Validation Error', 'content': {'application/json': {'schema': {'$ref': '#/components/schemas/HTTPValidationError'}}}}}}}}, 'components': {'schemas': {'AuthenticatedUser': {'properties': {'token': {'type': 'string', 'title': 'Token'}, 'user': {'$ref': '#/components/schemas/UniversalUser'}, 'authentication_method': {'$ref': '#/components/schemas/AuthenticationMethod'}, 'keycloak_roles': {'anyOf': [{'items': {'$ref': '#/components/schemas/KeycloakRole'}, 'type': 'array'}, {'type': 'null'}], 'title': 'Keycloak Roles'}}, 'type': 'object', 'required': ['token', 'user', 'authentication_method'], 'title': 'AuthenticatedUser', 'description': 'Authenticated user model supporting multiple authentication providers.\\n\\nThis model abstracts authentication information from various sources (Supabase, Keycloak)\\nand provides a consistent interface for user data and permissions.'}, 'AuthenticationMethod': {'type': 'string', 'enum': ['supabase', 'keycloak'], 'title': 'AuthenticationMethod', 'description': 'Authentication method used to authenticate the user.'}, 'Body_upload_file_storage_post': {'properties': {'file': {'type': 'string', 'format': 'binary', 'title': 'File'}}, 'type': 'object', 'required': ['file'], 'title': 'Body_upload_file_storage_post'}, 'FileUploadResponse': {'properties': {'message': {'type': 'string', 'title': 'Message'}, 'path': {'type': 'string', 'title': 'Path'}, 'public_url': {'type': 'string', 'title': 'Public Url'}}, 'type': 'object', 'required': ['message', 'path', 'public_url'], 'title': 'FileUploadResponse', 'description': 'Response model for file upload endpoint.'}, 'HTTPValidationError': {'properties': {'detail': {'items': {'$ref': '#/components/schemas/ValidationError'}, 'type': 'array', 'title': 'Detail'}}, 'type': 'object', 'title': 'HTTPValidationError'}, 'IIRequest': {'properties': {'capex': {'type': 'number', 'title': 'Capex'}, 'interest_rate': {'type': 'number', 'title': 'Interest Rate'}, 'loan_term': {'type': 'number', 'title': 'Loan Term'}, 'loan_amount': {'type': 'number', 'title': 'Loan Amount'}, 'subsidy': {'type': 'number', 'title': 'Subsidy'}}, 'type': 'object', 'required': ['capex', 'interest_rate', 'loan_term', 'loan_amount', 'subsidy'], 'title': 'IIRequest'}, 'IIResponse': {'properties': {'ii': {'type': 'number', 'title': 'Ii'}, 'input': {'$ref': '#/components/schemas/IIRequest'}}, 'type': 'object', 'required': ['ii', 'input'], 'title': 'IIResponse'}, 'IRRRequest': {'properties': {'capex': {'type': 'number', 'title': 'Capex'}, 'interest_rate': {'type': 'number', 'title': 'Interest Rate'}, 'loan_term': {'type': 'number', 'title': 'Loan Term'}, 'loan_amount': {'type': 'number', 'title': 'Loan Amount'}, 'subsidy': {'type': 'number', 'title': 'Subsidy'}, 'energy_savings': {'type': 'number', 'title': 'Energy Savings'}, 'energy_mix': {'items': {'type': 'number'}, 'type': 'array', 'title': 'Energy Mix'}, 'energy_prices': {'items': {'type': 'number'}, 'type': 'array', 'title': 'Energy Prices'}, 'maintenance_cost': {'type': 'number', 'title': 'Maintenance Cost'}, 'other_outflows': {'type': 'number', 'title': 'Other Outflows'}, 'project_lifetime': {'type': 'number', 'title': 'Project Lifetime'}}, 'type': 'object', 'required': ['capex', 'interest_rate', 'loan_term', 'loan_amount', 'subsidy', 'energy_savings', 'energy_mix', 'energy_prices', 'maintenance_cost', 'other_outflows', 'project_lifetime'], 'title': 'IRRRequest'}, 'IRRResponse': {'properties': {'irr': {'type': 'number', 'title': 'Irr'}, 'input': {'$ref': '#/components/schemas/IRRRequest'}}, 'type': 'object', 'required': ['irr', 'input'], 'title': 'IRRResponse'}, 'KeycloakRole': {'properties': {'id': {'type': 'string', 'title': 'Id'}, 'name': {'type': 'string', 'title': 'Name'}, 'description': {'anyOf': [{'type': 'string'}, {'type': 'null'}], 'title': 'Description'}, 'composite': {'anyOf': [{'type': 'boolean'}, {'type': 'null'}], 'title': 'Composite'}, 'clientRole': {'anyOf': [{'type': 'boolean'}, {'type': 'null'}], 'title': 'Clientrole'}, 'containerId': {'anyOf': [{'type': 'string'}, {'type': 'null'}], 'title': 'Containerid'}}, 'type': 'object', 'required': ['id', 'name'], 'title': 'KeycloakRole', 'description': \"Representation of a Keycloak role with its attributes.\\n\\nThis model represents role information retrieved from Keycloak's identity provider.\"}, 'NPVRequest': {'properties': {'cash_flows': {'items': {'type': 'number'}, 'type': 'array', 'title': 'Cash Flows'}, 'discount_rate': {'type': 'number', 'title': 'Discount Rate'}, 'energy_savings': {'type': 'number', 'title': 'Energy Savings'}, 'initial_investment': {'type': 'number', 'title': 'Initial Investment'}, 'lifetime': {'type': 'integer', 'title': 'Lifetime'}}, 'type': 'object', 'required': ['cash_flows', 'discount_rate', 'energy_savings', 'initial_investment', 'lifetime'], 'title': 'NPVRequest'}, 'NPVResponse': {'properties': {'npv': {'type': 'number', 'title': 'Npv'}, 'input': {'$ref': '#/components/schemas/NPVRequest'}}, 'type': 'object', 'required': ['npv', 'input'], 'title': 'NPVResponse'}, 'OPEXRequest': {'properties': {'energy_mix': {'items': {'type': 'number'}, 'type': 'array', 'title': 'Energy Mix'}, 'energy_prices': {'items': {'type': 'number'}, 'type': 'array', 'title': 'Energy Prices'}, 'maintenance_cost': {'type': 'number', 'title': 'Maintenance Cost'}}, 'type': 'object', 'required': ['energy_mix', 'energy_prices', 'maintenance_cost'], 'title': 'OPEXRequest'}, 'OPEXResponse': {'properties': {'opex': {'type': 'number', 'title': 'Opex'}, 'input': {'$ref': '#/components/schemas/OPEXRequest'}}, 'type': 'object', 'required': ['opex', 'input'], 'title': 'OPEXResponse'}, 'ROIRequest': {'properties': {'capex': {'type': 'number', 'title': 'Capex'}, 'interest_rate': {'type': 'number', 'title': 'Interest Rate'}, 'loan_term': {'type': 'number', 'title': 'Loan Term'}, 'loan_amount': {'type': 'number', 'title': 'Loan Amount'}, 'subsidy': {'type': 'number', 'title': 'Subsidy'}, 'energy_savings': {'type': 'number', 'title': 'Energy Savings'}, 'energy_mix': {'items': {'type': 'number'}, 'type': 'array', 'title': 'Energy Mix'}, 'energy_prices': {'items': {'type': 'number'}, 'type': 'array', 'title': 'Energy Prices'}, 'maintenance_cost': {'type': 'number', 'title': 'Maintenance Cost'}, 'other_outflows': {'type': 'number', 'title': 'Other Outflows'}}, 'type': 'object', 'required': ['capex', 'interest_rate', 'loan_term', 'loan_amount', 'subsidy', 'energy_savings', 'energy_mix', 'energy_prices', 'maintenance_cost', 'other_outflows'], 'title': 'ROIRequest'}, 'ROIResponse': {'properties': {'roi': {'type': 'number', 'title': 'Roi'}, 'input': {'$ref': '#/components/schemas/ROIRequest'}}, 'type': 'object', 'required': ['roi', 'input'], 'title': 'ROIResponse'}, 'StorageFileInfo': {'properties': {'name': {'type': 'string', 'title': 'Name'}, 'size': {'type': 'integer', 'title': 'Size'}, 'created_at': {'type': 'string', 'title': 'Created At'}, 'public_url': {'type': 'string', 'title': 'Public Url'}}, 'type': 'object', 'required': ['name', 'size', 'created_at', 'public_url'], 'title': 'StorageFileInfo', 'description': 'Model representing information about a stored file.'}, 'TableDataResponse': {'properties': {'table_name': {'type': 'string', 'title': 'Table Name'}, 'data': {'items': {'additionalProperties': True, 'type': 'object'}, 'type': 'array', 'title': 'Data'}, 'count': {'type': 'integer', 'title': 'Count'}}, 'type': 'object', 'required': ['table_name', 'data', 'count'], 'title': 'TableDataResponse', 'description': 'Response model for table read endpoint.'}, 'UniversalUser': {'properties': {'id': {'type': 'string', 'title': 'Id'}, 'email': {'anyOf': [{'type': 'string'}, {'type': 'null'}], 'title': 'Email'}, 'user_metadata': {'additionalProperties': {'type': 'string'}, 'type': 'object', 'title': 'User Metadata', 'default': {}}, 'identities': {'items': {'$ref': '#/components/schemas/UserIdentity'}, 'type': 'array', 'title': 'Identities', 'default': []}}, 'type': 'object', 'required': ['id'], 'title': 'UniversalUser', 'description': 'Provider-agnostic user model that works with any authentication provider.\\n\\nThis model abstracts away the differences between Supabase GoTrue User objects\\nand Keycloak JWT payloads, providing a consistent interface for user data\\nregardless of the authentication provider.'}, 'UserIdentity': {'properties': {'provider': {'type': 'string', 'title': 'Provider'}, 'id': {'type': 'string', 'title': 'Id'}}, 'type': 'object', 'required': ['provider', 'id'], 'title': 'UserIdentity', 'description': 'Represents a user identity from an authentication provider.'}, 'ValidationError': {'properties': {'loc': {'items': {'anyOf': [{'type': 'string'}, {'type': 'integer'}]}, 'type': 'array', 'title': 'Location'}, 'msg': {'type': 'string', 'title': 'Message'}, 'type': {'type': 'string', 'title': 'Error Type'}}, 'type': 'object', 'required': ['loc', 'msg', 'type'], 'title': 'ValidationError'}}, 'securitySchemes': {'HTTPBearer': {'type': 'http', 'scheme': 'bearer'}}}}\n"
     ]
    }
   ],
   "source": [
    "response = requests.get(\"http://localhost:8000/openapi.json\")\n",
    "openapi_data = response.json()\n",
    "print(openapi_data)"
   ]
  }
 ],
 "metadata": {
  "kernelspec": {
   "display_name": "APIvenv",
   "language": "python",
   "name": "python3"
  },
  "language_info": {
   "codemirror_mode": {
    "name": "ipython",
    "version": 3
   },
   "file_extension": ".py",
   "mimetype": "text/x-python",
   "name": "python",
   "nbconvert_exporter": "python",
   "pygments_lexer": "ipython3",
   "version": "3.13.5"
  }
 },
 "nbformat": 4,
 "nbformat_minor": 5
}
