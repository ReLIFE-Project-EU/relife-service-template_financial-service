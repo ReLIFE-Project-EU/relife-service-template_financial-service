{
 "cells": [
  {
   "cell_type": "code",
   "execution_count": 24,
   "id": "eafece4a",
   "metadata": {},
   "outputs": [],
   "source": [
    "import pandas as pd\n",
    "import numpy as np\n",
    "from typing import List\n",
    "import uvicorn\n"
   ]
  },
  {
   "cell_type": "code",
   "execution_count": 4,
   "id": "57be6505",
   "metadata": {},
   "outputs": [],
   "source": [
    "def calculate_npv(\n",
    "    cash_flows: List[float],\n",
    "    discount_rate: float,\n",
    "    energy_savings: float,\n",
    "    initial_investment: float,\n",
    "    lifetime: int\n",
    ") -> float:\n",
    "    \"\"\"\n",
    "    Calculate the Net Present Value (NPV) for a series of cash flows.\n",
    "    \n",
    "    - **cash_flows**: List of floats, e.g. [-1000, 300, 400, 500]\n",
    "    - **discount_rate**: Decimal, e.g. 0.1 for 10%\n",
    "    - **energy_savings**: Float representing annual energy savings\n",
    "    - **initial_investment**: Float representing the initial investment cost\n",
    "    - **lifetime**: Integer representing the lifetime of the investment in years\n",
    "    \"\"\"\n",
    "    npv = -initial_investment\n",
    "    for t in range(1, lifetime + 1):\n",
    "        # guard against index errors if cash_flows list is shorter than lifetime\n",
    "        cf = cash_flows[t-1] if t-1 < len(cash_flows) else 0.0\n",
    "        npv += (cf + energy_savings) / ((1 + discount_rate) ** t)\n",
    "    \n",
    "    return npv"
   ]
  },
  {
   "cell_type": "code",
   "execution_count": 7,
   "id": "5ebeac26",
   "metadata": {},
   "outputs": [
    {
     "data": {
      "text/plain": [
       "7285.853521369258"
      ]
     },
     "execution_count": 7,
     "metadata": {},
     "output_type": "execute_result"
    }
   ],
   "source": [
    "cash_flows= [1000.0, 1200.5, 1500.25, 1100]\n",
    "discount_rate= 0.08\n",
    "energy_savings= 100.0\n",
    "initial_investment= -3000.0\n",
    "lifetime= 4\n",
    "\n",
    "calculate_npv(\n",
    "    cash_flows=cash_flows,  \n",
    "    discount_rate=discount_rate,\n",
    "    energy_savings=energy_savings,\n",
    "    initial_investment=initial_investment,\n",
    "    lifetime=lifetime\n",
    ")"
   ]
  },
  {
   "cell_type": "code",
   "execution_count": 82,
   "id": "3d4711e4",
   "metadata": {},
   "outputs": [],
   "source": [
    "def calculate_ii(\n",
    "    capex: float,\n",
    "    interest_rate: float = 0.0,\n",
    "    loan_term: float = 0.0,\n",
    "    loan_amount: float = 0.0,\n",
    "    subsidy: float = 0.0,\n",
    ") -> float:\n",
    "    \"\"\"\n",
    "    Calculate the Initial Investment (II) based on provided inputs.\n",
    "\n",
    "    - Case 1: Only CAPEX\n",
    "    - Case 2: CAPEX with Subsidy\n",
    "    - Case 3: CAPEX with Loan\n",
    "    - Case 4: CAPEX with Subsidy and Loan\n",
    "\n",
    "    Missing values (like loan or subsidy) are treated as 0.\n",
    "    \"\"\"\n",
    "\n",
    "    if subsidy == 0 and loan_amount == 0:\n",
    "        # Case 1: Only CAPEX\n",
    "        ii = capex\n",
    "\n",
    "    elif subsidy > 0 and loan_amount == 0:\n",
    "        # Case 2: CAPEX with Subsidy\n",
    "        ii = capex - subsidy\n",
    "\n",
    "    elif loan_amount > 0 and subsidy == 0:\n",
    "        # Case 3: CAPEX with Loan\n",
    "        ii = capex - loan_amount\n",
    "\n",
    "    elif loan_amount > 0 and subsidy > 0:\n",
    "        # Case 4: CAPEX with Subsidy and Loan\n",
    "        ii = capex - subsidy - loan_amount\n",
    "\n",
    "    else:\n",
    "        # Fallback \n",
    "        ii = capex\n",
    "\n",
    "    return ii"
   ]
  },
  {
   "cell_type": "code",
   "execution_count": 84,
   "id": "375d9a3a",
   "metadata": {},
   "outputs": [
    {
     "data": {
      "text/plain": [
       "-1000"
      ]
     },
     "execution_count": 84,
     "metadata": {},
     "output_type": "execute_result"
    }
   ],
   "source": [
    "capex = 1000\n",
    "interest_rate = 0.1\n",
    "loan_term = 10\n",
    "subsidy = 2000\n",
    "\n",
    "\n",
    "calculate_ii(\n",
    "    capex=capex,\n",
    "    interest_rate=interest_rate,\n",
    "    loan_term=loan_term,\n",
    "    subsidy=subsidy\n",
    ")"
   ]
  },
  {
   "cell_type": "code",
   "execution_count": 41,
   "id": "4e254e9f",
   "metadata": {},
   "outputs": [],
   "source": [
    "def calculate_opex(\n",
    "    energy_mix: List[float],\n",
    "    energy_prices: List[float],\n",
    "    maintenance_cost: float,\n",
    ") -> float:\n",
    "\n",
    "\n",
    "    opex = []\n",
    "    for t in range(len(energy_mix)):\n",
    "        if t < len(energy_prices):\n",
    "            opex.append(energy_mix[t] * energy_prices[t]) \n",
    "        else:\n",
    "            opex.append = 0  # Default to maintenance cost if no price data available\n",
    "\n",
    "    opex = np.sum(opex) + maintenance_cost\n",
    "    \n",
    "\n",
    "    return float(opex)"
   ]
  },
  {
   "cell_type": "code",
   "execution_count": 42,
   "id": "2382366a",
   "metadata": {},
   "outputs": [
    {
     "data": {
      "text/plain": [
       "1290.0"
      ]
     },
     "execution_count": 42,
     "metadata": {},
     "output_type": "execute_result"
    }
   ],
   "source": [
    "energy_mix = [0.3, 0.4, 0.2, 0.1]\n",
    "energy_prices = [1000, 1200, 1500, 1100]\n",
    "maintenance_cost = 100\n",
    "\n",
    "calculate_opex(\n",
    "    energy_mix=energy_mix,\n",
    "    energy_prices=energy_prices,\n",
    "    maintenance_cost=maintenance_cost\n",
    ")\n",
    "\n"
   ]
  },
  {
   "cell_type": "code",
   "execution_count": 99,
   "id": "8136c1c3",
   "metadata": {},
   "outputs": [],
   "source": [
    "def calculate_roi(\n",
    "        capex: float= 0.0,\n",
    "        interest_rate: float= 0.0,\n",
    "        loan_term: float= 0.0,\n",
    "        loan_amount: float= 0.0,\n",
    "        subsidy: float= 0.0,\n",
    "        energy_savings: float= 0.0,\n",
    "        energy_mix: List[float]=None,\n",
    "        energy_prices: List[float]=None,\n",
    "        maintenance_cost: float= 0.0,\n",
    "        other_outflows: float= 0.0,\n",
    ")-> float: \n",
    "    \n",
    "\n",
    "\n",
    "    if energy_mix is None:\n",
    "        energy_mix=[]\n",
    "\n",
    "    if energy_prices is None:\n",
    "        energy_prices=[]\n",
    "    #Calculate roi\n",
    "    #first calucalte opex and initial investment\n",
    "\n",
    "    #OPEX\n",
    "\n",
    "    opex = []\n",
    "\n",
    "    for t in range(len(energy_mix)):\n",
    "        if t < len(energy_prices):\n",
    "            opex.append(energy_mix[t] * energy_prices[t]) \n",
    "        else:\n",
    "            opex.append(0)  # Default to maintenance cost if no price data available\n",
    "\n",
    "    opex = np.sum(opex) + maintenance_cost\n",
    "    opex=float(opex)  # Ensure opex is a float\n",
    "\n",
    "    #Initial Investment (II)\n",
    "\n",
    "    if subsidy == 0 and loan_amount == 0:\n",
    "        # Case 1: Only CAPEX\n",
    "        ii = capex\n",
    "\n",
    "    elif subsidy > 0 and loan_amount == 0:\n",
    "        # Case 2: CAPEX with Subsidy\n",
    "        ii = capex - subsidy\n",
    "\n",
    "    elif loan_amount > 0 and subsidy == 0:\n",
    "        # Case 3: CAPEX with Loan\n",
    "        ii = capex - loan_amount\n",
    "\n",
    "    elif loan_amount > 0 and subsidy > 0:\n",
    "        # Case 4: CAPEX with Subsidy and Loan\n",
    "        ii = capex - subsidy - loan_amount\n",
    "\n",
    "    else:\n",
    "        # Fallback \n",
    "        ii = capex\n",
    "\n",
    "\n",
    "#ROI\n",
    "    \n",
    "    net_profit= energy_savings-opex-other_outflows\n",
    "    if ii == 0:\n",
    "        roi = 0.0\n",
    "    else:\n",
    "     roi = (net_profit-ii)/ii *100\n",
    "\n",
    "    roi=float(roi)\n",
    "\n",
    "    return roi"
   ]
  },
  {
   "cell_type": "code",
   "execution_count": 100,
   "id": "6521eb85",
   "metadata": {},
   "outputs": [
    {
     "data": {
      "text/plain": [
       "7.142857142857142"
      ]
     },
     "execution_count": 100,
     "metadata": {},
     "output_type": "execute_result"
    }
   ],
   "source": [
    "capex = 1000\n",
    "loan_amount = 200\n",
    "subsidy = 100\n",
    "energy_savings = 1500\n",
    "energy_mix = [100, 100, 100]\n",
    "energy_prices = [2, 2, 2]\n",
    "maintenance_cost = 50\n",
    "other_outflows = 100\n",
    "\n",
    "calculate_roi(\n",
    "    capex=capex,\n",
    "    loan_amount=loan_amount,\n",
    "    subsidy=subsidy,\n",
    "    energy_savings=energy_savings,\n",
    "    energy_mix=energy_mix,\n",
    "    energy_prices=energy_prices,\n",
    "    maintenance_cost=maintenance_cost,\n",
    "    other_outflows=other_outflows\n",
    ")"
   ]
  },
  {
   "cell_type": "code",
   "execution_count": 109,
   "id": "83a56ca3",
   "metadata": {},
   "outputs": [],
   "source": [
    "def calculate_irr(\n",
    "        \n",
    "        capex: float = 0.0,\n",
    "        interest_rate: float = 0.0,\n",
    "        loan_term: float = 0.0,\n",
    "        loan_amount: float = 0.0,\n",
    "        subsidy: float = 0.0,\n",
    "        energy_savings: float = 0.0,\n",
    "        energy_mix: List[float] = None,\n",
    "        energy_prices: List[float] = None,\n",
    "        maintenance_cost: float = 0.0,\n",
    "        other_outflows: float = 0.0,\n",
    "        project_lifetime: float = 20.0,  # Default project lifetime\n",
    ") -> float:\n",
    "    \n",
    "    if energy_mix is None:\n",
    "        energy_mix = []\n",
    "\n",
    "    if energy_prices is None:\n",
    "        energy_prices = []\n",
    "\n",
    "    # Calculate OPEX\n",
    "    opex = []\n",
    "    for t in range(len(energy_mix)):\n",
    "        if t < len(energy_prices):\n",
    "            opex.append(energy_mix[t] * energy_prices[t])\n",
    "        else:\n",
    "            opex.append(maintenance_cost)  # Default to maintenance cost if no price data available\n",
    "\n",
    "    opex_total = np.sum(opex) + maintenance_cost\n",
    "\n",
    "    # Calculate Initial Investment (II)\n",
    "    ii = capex - subsidy - loan_amount if (subsidy > 0 or loan_amount > 0) else capex\n",
    "\n",
    "    if ii==0:\n",
    "        irr =0\n",
    "    else:\n",
    "    # Calculate IRR using a simple formula (this is a placeholder, actual IRR calculation may require more complex financial modeling)\n",
    "     irr = (energy_savings - opex_total - other_outflows) / ii\n",
    "\n",
    "    irr=float(irr)\n",
    "\n",
    "    return irr"
   ]
  },
  {
   "cell_type": "code",
   "execution_count": 110,
   "id": "7b482bb1",
   "metadata": {},
   "outputs": [
    {
     "data": {
      "text/plain": [
       "0.0"
      ]
     },
     "execution_count": 110,
     "metadata": {},
     "output_type": "execute_result"
    }
   ],
   "source": [
    "capex = 0\n",
    "loan_amount = 0\n",
    "subsidy = 0\n",
    "energy_savings = 0\n",
    "energy_mix = [100, 100, 100]\n",
    "energy_prices = [2, 2, 2]\n",
    "maintenance_cost = 0\n",
    "other_outflows = 0\n",
    "project_lifetime = 0\n",
    "\n",
    "calculate_irr(\n",
    "    capex=capex,\n",
    "    loan_amount=loan_amount,    \n",
    "    subsidy=subsidy,\n",
    "     energy_savings = energy_savings,\n",
    "    energy_mix = energy_mix,\n",
    "energy_prices = energy_prices,\n",
    "maintenance_cost = maintenance_cost ,\n",
    "other_outflows = other_outflows,\n",
    "project_lifetime = project_lifetime,\n",
    ")"
   ]
  }
 ],
 "metadata": {
  "kernelspec": {
   "display_name": "APIvenv",
   "language": "python",
   "name": "python3"
  },
  "language_info": {
   "codemirror_mode": {
    "name": "ipython",
    "version": 3
   },
   "file_extension": ".py",
   "mimetype": "text/x-python",
   "name": "python",
   "nbconvert_exporter": "python",
   "pygments_lexer": "ipython3",
   "version": "3.13.5"
  }
 },
 "nbformat": 4,
 "nbformat_minor": 5
}
