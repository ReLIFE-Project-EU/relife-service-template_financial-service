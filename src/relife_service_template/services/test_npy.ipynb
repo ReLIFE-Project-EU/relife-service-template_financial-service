{
 "cells": [
  {
   "cell_type": "code",
   "execution_count": 3,
   "id": "eafece4a",
   "metadata": {},
   "outputs": [],
   "source": [
    "import pandas as pd\n",
    "import numpy as np\n",
    "from typing import List\n"
   ]
  },
  {
   "cell_type": "code",
   "execution_count": 4,
   "id": "57be6505",
   "metadata": {},
   "outputs": [],
   "source": [
    "def calculate_npv(\n",
    "    cash_flows: List[float],\n",
    "    discount_rate: float,\n",
    "    energy_savings: float,\n",
    "    initial_investment: float,\n",
    "    lifetime: int\n",
    ") -> float:\n",
    "    \"\"\"\n",
    "    Calculate the Net Present Value (NPV) for a series of cash flows.\n",
    "    \n",
    "    - **cash_flows**: List of floats, e.g. [-1000, 300, 400, 500]\n",
    "    - **discount_rate**: Decimal, e.g. 0.1 for 10%\n",
    "    - **energy_savings**: Float representing annual energy savings\n",
    "    - **initial_investment**: Float representing the initial investment cost\n",
    "    - **lifetime**: Integer representing the lifetime of the investment in years\n",
    "    \"\"\"\n",
    "    npv = -initial_investment\n",
    "    for t in range(1, lifetime + 1):\n",
    "        # guard against index errors if cash_flows list is shorter than lifetime\n",
    "        cf = cash_flows[t-1] if t-1 < len(cash_flows) else 0.0\n",
    "        npv += (cf + energy_savings) / ((1 + discount_rate) ** t)\n",
    "    \n",
    "    return npv"
   ]
  },
  {
   "cell_type": "code",
   "execution_count": 7,
   "id": "5ebeac26",
   "metadata": {},
   "outputs": [
    {
     "data": {
      "text/plain": [
       "7285.853521369258"
      ]
     },
     "execution_count": 7,
     "metadata": {},
     "output_type": "execute_result"
    }
   ],
   "source": [
    "cash_flows= [1000.0, 1200.5, 1500.25, 1100]\n",
    "discount_rate= 0.08\n",
    "energy_savings= 100.0\n",
    "initial_investment= -3000.0\n",
    "lifetime= 4\n",
    "\n",
    "calculate_npv(\n",
    "    cash_flows=cash_flows,  \n",
    "    discount_rate=discount_rate,\n",
    "    energy_savings=energy_savings,\n",
    "    initial_investment=initial_investment,\n",
    "    lifetime=lifetime\n",
    ")"
   ]
  }
 ],
 "metadata": {
  "kernelspec": {
   "display_name": "APIvenv",
   "language": "python",
   "name": "python3"
  },
  "language_info": {
   "codemirror_mode": {
    "name": "ipython",
    "version": 3
   },
   "file_extension": ".py",
   "mimetype": "text/x-python",
   "name": "python",
   "nbconvert_exporter": "python",
   "pygments_lexer": "ipython3",
   "version": "3.13.5"
  }
 },
 "nbformat": 4,
 "nbformat_minor": 5
}
